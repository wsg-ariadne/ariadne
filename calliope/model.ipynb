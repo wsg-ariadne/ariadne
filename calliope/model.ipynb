{
 "cells": [
  {
   "attachments": {},
   "cell_type": "markdown",
   "metadata": {},
   "source": [
    "## PR on classifying cookie banner text\n",
    "- The goal is to see if we could get a Naive-Bayes implementation to work with data gathered from various sources on good and bad cookie banners, manually collected and labeled based on literature from CS 194\n",
    "- We were able to get it to work, however the results aren't satisfactory and we've hit a wall with how we're better able to pre-process the data to effectively isolate important keywords."
   ]
  },
  {
   "cell_type": "code",
   "execution_count": 19,
   "metadata": {},
   "outputs": [],
   "source": [
    "data_bad = [\n",
    "    [\"We use cookies on our website to give you the most relevant experience by remembering your preferences and repeat visits. By clicking 'Accpet' you consent to the use of ALL the cookies\", 'bad'],\n",
    "    [\"Art UK has updated its cookies policy. By using this website you are agreeing to the use of cookies. To find out more read our updated Use of Cookies policy and our updated Privacy policy\", 'bad'],\n",
    "    [\"We use cookies for performance, analytics, and advertising purposes. By continuing to use this website, you agree to allow cookies to be placed. Learn more.\", 'bad'],\n",
    "    [\"We use cookies on our websites for a number of purposes, including analytics and performance, functionality and advertising. Learn more about our use of cookies.\", 'bad'],\n",
    "    [\"But first, cookies. We use cookies to improve your experience and deliver personalized content. By using InVision, you agree to our Cookie Policy.\", 'bad'],\n",
    "    [\"Cookies. Cookies are used to access and store information on your device, to offer personalized content and ads based on your data. By choosing 'I agree' you consent to Deezer and its partners' use of cookies. You can refuse or withdraw consent by choosing 'Manage settings'\", 'bad'],\n",
    "    [\"Back Market uses functional cookies required for browsing this site. We and our partners also use cookies that allow us to measure traffic and show you personalized content and ads rather than basic shiz. Think sea salt chocolate chunk vs. oatmeal raisin. You can change your preferences later by clicking 'Cookies' at the bottom of any page. Tell me more about those Cookies\", 'bad'],\n",
    "    [\"This website uses cookies to improve your experience. We'll assume you're ok with this, but you can opt-out if you wish. Read More\", 'bad'],\n",
    "]\n",
    "\n",
    "data_good = [\n",
    "    [\"We use necessary cookies to make our site work. We’d like to set additional cookies to understand site usage, make site improvements and to remember your settings. We also use cookies set by other sites to help deliver content from their services. View our Cookie Notice\", 'good'],\n",
    "    [\"We value your privacy. We use cookies to enhance your browsing experience, serve personalized ads or content, and analyze our traffic. By clicking 'Accept All', you consent to our use of cookies.\", 'good'],\n",
    "    [\"Cookie consent. This website uses cookies to improve your experience. We will assume you are ok with this, but you can opt-out if you wish. View our privacy policy\", 'good'],\n",
    "    [\"Cookie consent. This website uses cookies that help the website to function and also track how you interact with our website. But for us to provide the best user experience, enable the specific cookies from Settings, and click on Accept\", 'good'],\n",
    "    [\"We use cookies on our website to give you the most relevant experience by remembering your preferences and repeat visits. By clicking 'Accept All', you consent to the use of ALL the cookies. However, you may visit 'Cookie Settings' to provide a controlled consent.\", 'good'],\n",
    "    [\"By clicking 'Allow All', you agree to the storing of cookies on your device to enhance site navigation and to analyse site usage. Read more here.\", 'good'],\n",
    "    [\"The choice is yours. We use cookies to give you the best possible experience when using our website. BY clicking 'Accept All', we can bring you relevant advertising and personalized content -- and generally give you a much more enhanced visit. If you'd rather take the time to set which cookies we can use, click 'Manage Settings'. Your choices can always be changed at a later date here.\", 'good'],\n",
    "    [\"Hi! We use cookies and similar technologies ('cookies'), including third-party cookies, on this website to help oeprate and improve your experience on our site, monitor our site performance, and for advertising purposes. For more information on how we use cookies and your cookie choices, go here for our cookie policy! By clicking 'Accept Cookies' below,  you are giving us consent to use cookies (except consent is not required for cookies necessary to run our site). You can change your cookie settings, and withdraw your consent at any time, by clicking on 'Cookie Settings' below.\", 'good']\n",
    "]\n",
    "\n",
    "data = data_bad + data_good"
   ]
  },
  {
   "attachments": {},
   "cell_type": "markdown",
   "metadata": {},
   "source": [
    "### Processing the text\n",
    "- Removing punctuation\n",
    "- Should we take out greetings and the word \"cookies\"?"
   ]
  },
  {
   "cell_type": "code",
   "execution_count": 20,
   "metadata": {},
   "outputs": [
    {
     "name": "stdout",
     "output_type": "stream",
     "text": [
      "(['But', 'first', 'cookies', 'We', 'use', 'cookies', 'to', 'improve', 'your', 'experience', 'and', 'deliver', 'personalized', 'content', 'By', 'using', 'InVision', 'you', 'agree', 'to', 'our', 'Cookie', 'Policy'], 'bad')\n"
     ]
    }
   ],
   "source": [
    "import string\n",
    "import random\n",
    "\n",
    "word_string = ''\n",
    "documents = []\n",
    "\n",
    "for point in data:\n",
    "    curr_tuple = (point[0].translate(str.maketrans('', '', string.punctuation)).split(), point[1])\n",
    "    documents.append(curr_tuple)\n",
    "    word_string = word_string + point[0].translate(str.maketrans('', '', string.punctuation))\n",
    "\n",
    "random.shuffle(documents)\n",
    "print(documents[0])"
   ]
  },
  {
   "attachments": {},
   "cell_type": "markdown",
   "metadata": {},
   "source": [
    "### Defining the feature extractor\n",
    "- Takes five of the words as features"
   ]
  },
  {
   "cell_type": "code",
   "execution_count": 21,
   "metadata": {},
   "outputs": [],
   "source": [
    "import nltk\n",
    "\n",
    "# Define the feature extractor\n",
    "\n",
    "all_words = nltk.FreqDist(w.lower() for w in word_string.split())\n",
    "\n",
    "word_features = list(all_words)[:5]\n",
    "\n",
    "def document_features(document):\n",
    "    document_words = set(document)\n",
    "    features = {}\n",
    "    for word in word_features:\n",
    "        features['contains({})'.format(word)] = (word in document_words)\n",
    "    return features"
   ]
  },
  {
   "attachments": {},
   "cell_type": "markdown",
   "metadata": {},
   "source": [
    "### Training and testing the classifier\n",
    "- Using NLTK to split the data into testing sets and training sets"
   ]
  },
  {
   "cell_type": "code",
   "execution_count": 22,
   "metadata": {},
   "outputs": [],
   "source": [
    "# Train Naive Bayes classifier\n",
    "featuresets = [(document_features(d), c) for (d,c) in documents]\n",
    "train_set, test_set = featuresets[5:], featuresets[:5]\n",
    "classifier = nltk.NaiveBayesClassifier.train(train_set)"
   ]
  },
  {
   "cell_type": "code",
   "execution_count": 23,
   "metadata": {},
   "outputs": [
    {
     "name": "stdout",
     "output_type": "stream",
     "text": [
      "0.4\n"
     ]
    }
   ],
   "source": [
    "# Test the classifier\n",
    "print(nltk.classify.accuracy(classifier, test_set))"
   ]
  },
  {
   "attachments": {},
   "cell_type": "markdown",
   "metadata": {},
   "source": [
    "### Important features\n",
    "- Noticing they're repeated, doing some reading as to how we can better isolate \"relevant\" words"
   ]
  },
  {
   "cell_type": "code",
   "execution_count": 24,
   "metadata": {},
   "outputs": [
    {
     "name": "stdout",
     "output_type": "stream",
     "text": [
      "Most Informative Features\n",
      "           contains(use) = False            good : bad    =      1.2 : 1.0\n",
      "           contains(you) = False            good : bad    =      1.2 : 1.0\n",
      "           contains(and) = True             good : bad    =      1.2 : 1.0\n",
      "            contains(to) = True             good : bad    =      1.2 : 1.0\n",
      "           contains(use) = True              bad : good   =      1.0 : 1.0\n"
     ]
    }
   ],
   "source": [
    "# Show the most important features as interpreted by Naive Bayes\n",
    "classifier.show_most_informative_features(5)"
   ]
  },
  {
   "attachments": {},
   "cell_type": "markdown",
   "metadata": {},
   "source": [
    "### Next tasks\n",
    "- Find ways to improve model performance\n",
    "- Try to run this model from the extension\n",
    "- Explore options for the option weight classifier"
   ]
  }
 ],
 "metadata": {
  "kernelspec": {
   "display_name": "Python 3",
   "language": "python",
   "name": "python3"
  },
  "language_info": {
   "codemirror_mode": {
    "name": "ipython",
    "version": 3
   },
   "file_extension": ".py",
   "mimetype": "text/x-python",
   "name": "python",
   "nbconvert_exporter": "python",
   "pygments_lexer": "ipython3",
   "version": "3.10.6 (main, Nov 14 2022, 16:10:14) [GCC 11.3.0]"
  },
  "orig_nbformat": 4,
  "vscode": {
   "interpreter": {
    "hash": "916dbcbb3f70747c44a77c7bcd40155683ae19c65e1c03b4aa3499c5328201f1"
   }
  }
 },
 "nbformat": 4,
 "nbformat_minor": 2
}
