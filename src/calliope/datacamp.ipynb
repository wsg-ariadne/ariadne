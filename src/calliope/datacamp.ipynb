{
 "cells": [
  {
   "attachments": {},
   "cell_type": "markdown",
   "metadata": {},
   "source": [
    "# FOLLOWING THE TUTORIAL AT DATACAMP\n",
    "Link: https://www.datacamp.com/tutorial/simplifying-sentiment-analysis-python#naive-bayes-classification-for-sentiment-analysis"
   ]
  },
  {
   "cell_type": "code",
   "execution_count": 22,
   "metadata": {},
   "outputs": [],
   "source": [
    "# Load and prepare the dataset\n",
    "import nltk\n",
    "from nltk.corpus import movie_reviews\n",
    "import random\n",
    "\n",
    "documents = [(list(movie_reviews.words(fileid)), category)\n",
    "              for category in movie_reviews.categories()\n",
    "              for fileid in movie_reviews.fileids(category)]\n",
    "\n",
    "random.shuffle(documents)"
   ]
  },
  {
   "cell_type": "code",
   "execution_count": 41,
   "metadata": {},
   "outputs": [
    {
     "name": "stdout",
     "output_type": "stream",
     "text": [
      "<class 'nltk.corpus.reader.plaintext.CategorizedPlaintextCorpusReader'>\n"
     ]
    }
   ],
   "source": [
    "print(type(movie_reviews))"
   ]
  },
  {
   "cell_type": "code",
   "execution_count": 27,
   "metadata": {},
   "outputs": [],
   "source": [
    "documents = documents[0:9]"
   ]
  },
  {
   "cell_type": "code",
   "execution_count": 35,
   "metadata": {},
   "outputs": [
    {
     "name": "stdout",
     "output_type": "stream",
     "text": [
      "(['synopsis', ':', 'leonard', 'shelby', '(', 'pearce', ')', 'is', 'a', 'former', 'insurance', 'investigator', 'on', 'the', 'trail', 'of', 'the', 'man', 'who', 'killed', 'his', 'wife', '.', 'leonard', 'has', 'only', 'a', 'few', 'clues', 'to', 'the', 'murderer', \"'\", 's', 'identity', ';', 'to', 'make', 'matters', 'worse', ',', 'he', 'suffers', 'from', 'a', 'condition', 'which', 'inhibits', 'the', 'creation', 'of', 'short', '-', 'term', 'memories', ',', 'meaning', 'that', 'leonard', 'is', 'always', 'forgetting', 'what', 'happened', 'just', 'minutes', 'earlier', '.', 'because', 'of', 'this', ',', 'leonard', 'is', 'forced', 'to', 'rely', 'on', 'notes', 'he', 'leaves', 'for', 'himself', '.', '\"', 'memento', '\"', 'traces', 'the', 'investigation', 'back', 'in', 'time', 'from', 'its', 'apparent', 'culmination', '.', 'review', ':', '\"', 'memento', '\"', 'is', 'the', 'sort', 'of', 'movie', 'i', 'wish', 'i', \"'\", 'd', 'written', ';', 'i', 'can', 'think', 'of', 'no', 'higher', 'praise', 'than', 'that', '.', 'i', 'am', 'envious', 'that', 'nolan', 'has', 'concocted', 'such', 'a', 'brilliant', ',', 'involved', ',', 'original', 'movie', 'as', 'this', '.', 'an', 'instant', 'film', 'noir', 'classic', ',', '\"', 'memento', '\"', 'is', 'virtually', 'flawless', '.', 'the', 'script', 'is', 'unlike', 'any', 'i', 'have', 'ever', 'seen', '--', 'a', 'notable', 'achievement', 'in', 'these', 'days', 'of', 'recycled', 'hollywood', 'homogeneity', '.', 'although', 'the', 'idea', 'of', 'starting', 'at', 'the', '\"', 'conclusion', '\"', 'of', 'the', 'plotline', 'and', 'then', 'moving', 'backward', 'in', 'time', 'to', 'the', '\"', 'start', '\"', 'is', 'not', 'entirely', 'new', ',', 'never', 'before', 'have', 'i', 'witnessed', 'it', 'executed', 'with', 'such', 'flair', 'and', 'coherence', '.', '\"', 'memento', '\"', 'is', 'endlessly', 'exciting', 'and', 'inventive', ',', 'a', 'rare', 'story', 'which', 'keeps', 'the', 'viewers', 'guessing', 'during', 'the', 'film', 'itself', ',', 'and', 'mulling', 'over', 'its', 'connotations', 'long', 'after', 'leaving', 'the', 'theatre', '.', 'and', 'it', 'is', 'not', 'merely', 'an', 'exercise', 'in', 'cerebrality', ';', 'there', 'is', 'plenty', 'of', 'action', 'and', 'an', 'unexpected', 'dose', 'of', 'humour', 'to', 'keep', 'the', 'proceedings', 'lively', '.', 'nolan', \"'\", 's', 'direction', 'is', 'equally', 'effective', ',', 'never', 'losing', 'its', 'crispness', 'and', 'clarity', 'despite', '\"', 'memento', '\"', \"'\", 's', 'challenging', 'gimmick', '.', 'and', 'to', 'top', 'everything', 'off', ',', 'all', 'the', 'performances', 'rise', 'to', 'the', 'occasion', '.', 'pierce', 'is', 'terrific', 'as', 'the', 'troubled', 'leonard', ';', 'moss', 'shows', 'great', 'range', 'as', 'enigmatic', 'natalie', ';', 'and', 'pantoliano', \"'\", 's', 'teddy', 'achieves', 'a', 'splendidly', 'affable', 'yet', 'sinister', 'quality', '.', '\"', 'memento', '\"', 'may', 'be', 'the', 'year', \"'\", 's', 'best', 'screenplay', ',', 'and', 'is', 'certainly', 'amongst', 'the', 'top', 'theatrical', 'attractions', 'of', '2001', '.'], 'pos')\n"
     ]
    }
   ],
   "source": [
    "print(documents[0])"
   ]
  },
  {
   "cell_type": "code",
   "execution_count": 28,
   "metadata": {},
   "outputs": [],
   "source": [
    "# Define the feature extractor\n",
    "\n",
    "all_words = nltk.FreqDist(w.lower() for w in movie_reviews.words())\n",
    "word_features = list(all_words)[:5]\n",
    "\n",
    "def document_features(document):\n",
    "    document_words = set(document)\n",
    "    features = {}\n",
    "    for word in word_features:\n",
    "        features['contains({})'.format(word)] = (word in document_words)\n",
    "    return features"
   ]
  },
  {
   "cell_type": "code",
   "execution_count": 39,
   "metadata": {},
   "outputs": [
    {
     "name": "stdout",
     "output_type": "stream",
     "text": [
      "<class 'nltk.corpus.reader.plaintext.CategorizedPlaintextCorpusReader'>\n",
      "<bound method CategorizedCorpusReader.words of <CategorizedPlaintextCorpusReader in '/home/juris/nltk_data/corpora/movie_reviews'>>\n",
      "<generator object <genexpr> at 0x7f06fad651c0>\n"
     ]
    }
   ],
   "source": [
    "print(type(movie_reviews))\n",
    "print(movie_reviews.words)\n",
    "print(w.lower() for w in movie_reviews.words())"
   ]
  },
  {
   "cell_type": "code",
   "execution_count": 30,
   "metadata": {},
   "outputs": [
    {
     "name": "stdout",
     "output_type": "stream",
     "text": [
      "[',', 'the', '.', 'a', 'and']\n"
     ]
    }
   ],
   "source": [
    "print(word_features)"
   ]
  },
  {
   "cell_type": "code",
   "execution_count": 32,
   "metadata": {},
   "outputs": [],
   "source": [
    "# Train Naive Bayes classifier\n",
    "featuresets = [(document_features(d), c) for (d,c) in documents]\n",
    "train_set, test_set = featuresets[5:], featuresets[:5]\n",
    "classifier = nltk.NaiveBayesClassifier.train(train_set)"
   ]
  },
  {
   "cell_type": "code",
   "execution_count": 33,
   "metadata": {},
   "outputs": [
    {
     "name": "stdout",
     "output_type": "stream",
     "text": [
      "0.8\n"
     ]
    }
   ],
   "source": [
    "# Test the classifier\n",
    "print(nltk.classify.accuracy(classifier, test_set))"
   ]
  },
  {
   "cell_type": "code",
   "execution_count": 34,
   "metadata": {},
   "outputs": [
    {
     "name": "stdout",
     "output_type": "stream",
     "text": [
      "Most Informative Features\n",
      "             contains(,) = True              neg : pos    =      1.0 : 1.0\n",
      "             contains(.) = True              neg : pos    =      1.0 : 1.0\n",
      "             contains(a) = True              neg : pos    =      1.0 : 1.0\n",
      "           contains(and) = True              neg : pos    =      1.0 : 1.0\n",
      "           contains(the) = True              neg : pos    =      1.0 : 1.0\n"
     ]
    }
   ],
   "source": [
    "# Show the most important features as interpreted by Naive Bayes\n",
    "classifier.show_most_informative_features(5)"
   ]
  }
 ],
 "metadata": {
  "kernelspec": {
   "display_name": "Python 3",
   "language": "python",
   "name": "python3"
  },
  "language_info": {
   "codemirror_mode": {
    "name": "ipython",
    "version": 3
   },
   "file_extension": ".py",
   "mimetype": "text/x-python",
   "name": "python",
   "nbconvert_exporter": "python",
   "pygments_lexer": "ipython3",
   "version": "3.10.6 (main, Nov 14 2022, 16:10:14) [GCC 11.3.0]"
  },
  "orig_nbformat": 4,
  "vscode": {
   "interpreter": {
    "hash": "31f2aee4e71d21fbe5cf8b01ff0e069b9275f58929596ceb00d14d90e3e16cd6"
   }
  }
 },
 "nbformat": 4,
 "nbformat_minor": 2
}
